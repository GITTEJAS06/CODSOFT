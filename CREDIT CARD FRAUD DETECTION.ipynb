{
 "cells": [
  {
   "cell_type": "markdown",
   "metadata": {},
   "source": [
    "# CREDIT CARD FRAUD DETECTION"
   ]
  },
  {
   "cell_type": "markdown",
   "metadata": {},
   "source": [
    "# importing librarys"
   ]
  },
  {
   "cell_type": "code",
   "execution_count": 2,
   "metadata": {
    "executionInfo": {
     "elapsed": 744,
     "status": "ok",
     "timestamp": 1711977899668,
     "user": {
      "displayName": "Shruti M Timmanagoudar",
      "userId": "14013848575536859607"
     },
     "user_tz": -330
    },
    "id": "ytUSAbQHsef2"
   },
   "outputs": [],
   "source": [
    "import numpy as np\n",
    "import pandas as pd\n",
    "import os\n",
    "import matplotlib.pyplot as plt\n",
    "import seaborn as sns\n",
    "import datetime\n",
    "from sklearn.model_selection import train_test_split\n",
    "from sklearn.metrics import accuracy_score,classification_report\n",
    "from sklearn.preprocessing import LabelEncoder\n",
    "from sklearn.model_selection import cross_val_score\n",
    "\n",
    "os.chdir('D:/$TUDY/Codsoft/fraudTest.csv/fraud.csv')"
   ]
  },
  {
   "cell_type": "markdown",
   "metadata": {},
   "source": [
    "# Data Gathering "
   ]
  },
  {
   "cell_type": "code",
   "execution_count": 3,
   "metadata": {
    "executionInfo": {
     "elapsed": 11910,
     "status": "ok",
     "timestamp": 1711977942511,
     "user": {
      "displayName": "Shruti M Timmanagoudar",
      "userId": "14013848575536859607"
     },
     "user_tz": -330
    },
    "id": "G0SnHtWowIN-"
   },
   "outputs": [],
   "source": [
    "train_data=pd.read_csv(\"fraudTrain.csv\")\n",
    "test_data=pd.read_csv(\"fraudTest.csv\")"
   ]
  },
  {
   "cell_type": "code",
   "execution_count": 4,
   "metadata": {},
   "outputs": [
    {
     "data": {
      "text/html": [
       "<div>\n",
       "<style scoped>\n",
       "    .dataframe tbody tr th:only-of-type {\n",
       "        vertical-align: middle;\n",
       "    }\n",
       "\n",
       "    .dataframe tbody tr th {\n",
       "        vertical-align: top;\n",
       "    }\n",
       "\n",
       "    .dataframe thead th {\n",
       "        text-align: right;\n",
       "    }\n",
       "</style>\n",
       "<table border=\"1\" class=\"dataframe\">\n",
       "  <thead>\n",
       "    <tr style=\"text-align: right;\">\n",
       "      <th></th>\n",
       "      <th>Unnamed: 0</th>\n",
       "      <th>trans_date_trans_time</th>\n",
       "      <th>cc_num</th>\n",
       "      <th>merchant</th>\n",
       "      <th>category</th>\n",
       "      <th>amt</th>\n",
       "      <th>first</th>\n",
       "      <th>last</th>\n",
       "      <th>gender</th>\n",
       "      <th>street</th>\n",
       "      <th>...</th>\n",
       "      <th>lat</th>\n",
       "      <th>long</th>\n",
       "      <th>city_pop</th>\n",
       "      <th>job</th>\n",
       "      <th>dob</th>\n",
       "      <th>trans_num</th>\n",
       "      <th>unix_time</th>\n",
       "      <th>merch_lat</th>\n",
       "      <th>merch_long</th>\n",
       "      <th>is_fraud</th>\n",
       "    </tr>\n",
       "  </thead>\n",
       "  <tbody>\n",
       "    <tr>\n",
       "      <th>0</th>\n",
       "      <td>0</td>\n",
       "      <td>01/01/19 00:00:00</td>\n",
       "      <td>2.700000e+15</td>\n",
       "      <td>fraud_Rippin, Kub and Mann</td>\n",
       "      <td>misc_net</td>\n",
       "      <td>4.97</td>\n",
       "      <td>Jennifer</td>\n",
       "      <td>Banks</td>\n",
       "      <td>F</td>\n",
       "      <td>561 Perry Cove</td>\n",
       "      <td>...</td>\n",
       "      <td>36.0788</td>\n",
       "      <td>-81.1781</td>\n",
       "      <td>3495</td>\n",
       "      <td>Psychologist, counselling</td>\n",
       "      <td>09-03-1988</td>\n",
       "      <td>0b242abb623afc578575680df30655b9</td>\n",
       "      <td>1325376018</td>\n",
       "      <td>36.011293</td>\n",
       "      <td>-82.048315</td>\n",
       "      <td>0</td>\n",
       "    </tr>\n",
       "    <tr>\n",
       "      <th>1</th>\n",
       "      <td>1</td>\n",
       "      <td>01/01/19 00:00:00</td>\n",
       "      <td>6.300000e+11</td>\n",
       "      <td>fraud_Heller, Gutmann and Zieme</td>\n",
       "      <td>grocery_pos</td>\n",
       "      <td>107.23</td>\n",
       "      <td>Stephanie</td>\n",
       "      <td>Gill</td>\n",
       "      <td>F</td>\n",
       "      <td>43039 Riley Greens Suite 393</td>\n",
       "      <td>...</td>\n",
       "      <td>48.8878</td>\n",
       "      <td>-118.2105</td>\n",
       "      <td>149</td>\n",
       "      <td>Special educational needs teacher</td>\n",
       "      <td>21-06-1978</td>\n",
       "      <td>1f76529f8574734946361c461b024d99</td>\n",
       "      <td>1325376044</td>\n",
       "      <td>49.159047</td>\n",
       "      <td>-118.186462</td>\n",
       "      <td>0</td>\n",
       "    </tr>\n",
       "    <tr>\n",
       "      <th>2</th>\n",
       "      <td>2</td>\n",
       "      <td>01/01/19 00:00:00</td>\n",
       "      <td>3.890000e+13</td>\n",
       "      <td>fraud_Lind-Buckridge</td>\n",
       "      <td>entertainment</td>\n",
       "      <td>220.11</td>\n",
       "      <td>Edward</td>\n",
       "      <td>Sanchez</td>\n",
       "      <td>M</td>\n",
       "      <td>594 White Dale Suite 530</td>\n",
       "      <td>...</td>\n",
       "      <td>42.1808</td>\n",
       "      <td>-112.2620</td>\n",
       "      <td>4154</td>\n",
       "      <td>Nature conservation officer</td>\n",
       "      <td>19-01-1962</td>\n",
       "      <td>a1a22d70485983eac12b5b88dad1cf95</td>\n",
       "      <td>1325376051</td>\n",
       "      <td>43.150704</td>\n",
       "      <td>-112.154481</td>\n",
       "      <td>0</td>\n",
       "    </tr>\n",
       "    <tr>\n",
       "      <th>3</th>\n",
       "      <td>3</td>\n",
       "      <td>01/01/19 00:01:00</td>\n",
       "      <td>3.530000e+15</td>\n",
       "      <td>fraud_Kutch, Hermiston and Farrell</td>\n",
       "      <td>gas_transport</td>\n",
       "      <td>45.00</td>\n",
       "      <td>Jeremy</td>\n",
       "      <td>White</td>\n",
       "      <td>M</td>\n",
       "      <td>9443 Cynthia Court Apt. 038</td>\n",
       "      <td>...</td>\n",
       "      <td>46.2306</td>\n",
       "      <td>-112.1138</td>\n",
       "      <td>1939</td>\n",
       "      <td>Patent attorney</td>\n",
       "      <td>12-01-1967</td>\n",
       "      <td>6b849c168bdad6f867558c3793159a81</td>\n",
       "      <td>1325376076</td>\n",
       "      <td>47.034331</td>\n",
       "      <td>-112.561071</td>\n",
       "      <td>0</td>\n",
       "    </tr>\n",
       "    <tr>\n",
       "      <th>4</th>\n",
       "      <td>4</td>\n",
       "      <td>01/01/19 00:03:00</td>\n",
       "      <td>3.760000e+14</td>\n",
       "      <td>fraud_Keeling-Crist</td>\n",
       "      <td>misc_pos</td>\n",
       "      <td>41.96</td>\n",
       "      <td>Tyler</td>\n",
       "      <td>Garcia</td>\n",
       "      <td>M</td>\n",
       "      <td>408 Bradley Rest</td>\n",
       "      <td>...</td>\n",
       "      <td>38.4207</td>\n",
       "      <td>-79.4629</td>\n",
       "      <td>99</td>\n",
       "      <td>Dance movement psychotherapist</td>\n",
       "      <td>28-03-1986</td>\n",
       "      <td>a41d7549acf90789359a9aa5346dcb46</td>\n",
       "      <td>1325376186</td>\n",
       "      <td>38.674999</td>\n",
       "      <td>-78.632459</td>\n",
       "      <td>0</td>\n",
       "    </tr>\n",
       "  </tbody>\n",
       "</table>\n",
       "<p>5 rows × 23 columns</p>\n",
       "</div>"
      ],
      "text/plain": [
       "   Unnamed: 0 trans_date_trans_time        cc_num  \\\n",
       "0           0     01/01/19 00:00:00  2.700000e+15   \n",
       "1           1     01/01/19 00:00:00  6.300000e+11   \n",
       "2           2     01/01/19 00:00:00  3.890000e+13   \n",
       "3           3     01/01/19 00:01:00  3.530000e+15   \n",
       "4           4     01/01/19 00:03:00  3.760000e+14   \n",
       "\n",
       "                             merchant       category     amt      first  \\\n",
       "0          fraud_Rippin, Kub and Mann       misc_net    4.97   Jennifer   \n",
       "1     fraud_Heller, Gutmann and Zieme    grocery_pos  107.23  Stephanie   \n",
       "2                fraud_Lind-Buckridge  entertainment  220.11     Edward   \n",
       "3  fraud_Kutch, Hermiston and Farrell  gas_transport   45.00     Jeremy   \n",
       "4                 fraud_Keeling-Crist       misc_pos   41.96      Tyler   \n",
       "\n",
       "      last gender                        street  ...      lat      long  \\\n",
       "0    Banks      F                561 Perry Cove  ...  36.0788  -81.1781   \n",
       "1     Gill      F  43039 Riley Greens Suite 393  ...  48.8878 -118.2105   \n",
       "2  Sanchez      M      594 White Dale Suite 530  ...  42.1808 -112.2620   \n",
       "3    White      M   9443 Cynthia Court Apt. 038  ...  46.2306 -112.1138   \n",
       "4   Garcia      M              408 Bradley Rest  ...  38.4207  -79.4629   \n",
       "\n",
       "   city_pop                                job         dob  \\\n",
       "0      3495          Psychologist, counselling  09-03-1988   \n",
       "1       149  Special educational needs teacher  21-06-1978   \n",
       "2      4154        Nature conservation officer  19-01-1962   \n",
       "3      1939                    Patent attorney  12-01-1967   \n",
       "4        99     Dance movement psychotherapist  28-03-1986   \n",
       "\n",
       "                          trans_num   unix_time  merch_lat  merch_long  \\\n",
       "0  0b242abb623afc578575680df30655b9  1325376018  36.011293  -82.048315   \n",
       "1  1f76529f8574734946361c461b024d99  1325376044  49.159047 -118.186462   \n",
       "2  a1a22d70485983eac12b5b88dad1cf95  1325376051  43.150704 -112.154481   \n",
       "3  6b849c168bdad6f867558c3793159a81  1325376076  47.034331 -112.561071   \n",
       "4  a41d7549acf90789359a9aa5346dcb46  1325376186  38.674999  -78.632459   \n",
       "\n",
       "   is_fraud  \n",
       "0         0  \n",
       "1         0  \n",
       "2         0  \n",
       "3         0  \n",
       "4         0  \n",
       "\n",
       "[5 rows x 23 columns]"
      ]
     },
     "execution_count": 4,
     "metadata": {},
     "output_type": "execute_result"
    }
   ],
   "source": [
    "train_data.head(5)"
   ]
  },
  {
   "cell_type": "code",
   "execution_count": 5,
   "metadata": {},
   "outputs": [
    {
     "data": {
      "text/html": [
       "<div>\n",
       "<style scoped>\n",
       "    .dataframe tbody tr th:only-of-type {\n",
       "        vertical-align: middle;\n",
       "    }\n",
       "\n",
       "    .dataframe tbody tr th {\n",
       "        vertical-align: top;\n",
       "    }\n",
       "\n",
       "    .dataframe thead th {\n",
       "        text-align: right;\n",
       "    }\n",
       "</style>\n",
       "<table border=\"1\" class=\"dataframe\">\n",
       "  <thead>\n",
       "    <tr style=\"text-align: right;\">\n",
       "      <th></th>\n",
       "      <th>Unnamed: 0</th>\n",
       "      <th>trans_date_trans_time</th>\n",
       "      <th>cc_num</th>\n",
       "      <th>merchant</th>\n",
       "      <th>category</th>\n",
       "      <th>amt</th>\n",
       "      <th>first</th>\n",
       "      <th>last</th>\n",
       "      <th>gender</th>\n",
       "      <th>street</th>\n",
       "      <th>...</th>\n",
       "      <th>lat</th>\n",
       "      <th>long</th>\n",
       "      <th>city_pop</th>\n",
       "      <th>job</th>\n",
       "      <th>dob</th>\n",
       "      <th>trans_num</th>\n",
       "      <th>unix_time</th>\n",
       "      <th>merch_lat</th>\n",
       "      <th>merch_long</th>\n",
       "      <th>is_fraud</th>\n",
       "    </tr>\n",
       "  </thead>\n",
       "  <tbody>\n",
       "    <tr>\n",
       "      <th>0</th>\n",
       "      <td>0</td>\n",
       "      <td>21/06/20 12:14:00</td>\n",
       "      <td>2.290000e+15</td>\n",
       "      <td>fraud_Kirlin and Sons</td>\n",
       "      <td>personal_care</td>\n",
       "      <td>2.86</td>\n",
       "      <td>Jeff</td>\n",
       "      <td>Elliott</td>\n",
       "      <td>M</td>\n",
       "      <td>351 Darlene Green</td>\n",
       "      <td>...</td>\n",
       "      <td>33.9659</td>\n",
       "      <td>-80.9355</td>\n",
       "      <td>333497</td>\n",
       "      <td>Mechanical engineer</td>\n",
       "      <td>19-03-1968</td>\n",
       "      <td>2da90c7d74bd46a0caf3777415b3ebd3</td>\n",
       "      <td>1371816865</td>\n",
       "      <td>33.986391</td>\n",
       "      <td>-81.200714</td>\n",
       "      <td>0</td>\n",
       "    </tr>\n",
       "    <tr>\n",
       "      <th>1</th>\n",
       "      <td>1</td>\n",
       "      <td>21/06/20 12:14:00</td>\n",
       "      <td>3.570000e+15</td>\n",
       "      <td>fraud_Sporer-Keebler</td>\n",
       "      <td>personal_care</td>\n",
       "      <td>29.84</td>\n",
       "      <td>Joanne</td>\n",
       "      <td>Williams</td>\n",
       "      <td>F</td>\n",
       "      <td>3638 Marsh Union</td>\n",
       "      <td>...</td>\n",
       "      <td>40.3207</td>\n",
       "      <td>-110.4360</td>\n",
       "      <td>302</td>\n",
       "      <td>Sales professional, IT</td>\n",
       "      <td>17-01-1990</td>\n",
       "      <td>324cc204407e99f51b0d6ca0055005e7</td>\n",
       "      <td>1371816873</td>\n",
       "      <td>39.450498</td>\n",
       "      <td>-109.960431</td>\n",
       "      <td>0</td>\n",
       "    </tr>\n",
       "    <tr>\n",
       "      <th>2</th>\n",
       "      <td>2</td>\n",
       "      <td>21/06/20 12:14:00</td>\n",
       "      <td>3.600000e+15</td>\n",
       "      <td>fraud_Swaniawski, Nitzsche and Welch</td>\n",
       "      <td>health_fitness</td>\n",
       "      <td>41.28</td>\n",
       "      <td>Ashley</td>\n",
       "      <td>Lopez</td>\n",
       "      <td>F</td>\n",
       "      <td>9333 Valentine Point</td>\n",
       "      <td>...</td>\n",
       "      <td>40.6729</td>\n",
       "      <td>-73.5365</td>\n",
       "      <td>34496</td>\n",
       "      <td>Librarian, public</td>\n",
       "      <td>21-10-1970</td>\n",
       "      <td>c81755dbbbea9d5c77f094348a7579be</td>\n",
       "      <td>1371816893</td>\n",
       "      <td>40.495810</td>\n",
       "      <td>-74.196111</td>\n",
       "      <td>0</td>\n",
       "    </tr>\n",
       "    <tr>\n",
       "      <th>3</th>\n",
       "      <td>3</td>\n",
       "      <td>21/06/20 12:15:00</td>\n",
       "      <td>3.590000e+15</td>\n",
       "      <td>fraud_Haley Group</td>\n",
       "      <td>misc_pos</td>\n",
       "      <td>60.05</td>\n",
       "      <td>Brian</td>\n",
       "      <td>Williams</td>\n",
       "      <td>M</td>\n",
       "      <td>32941 Krystal Mill Apt. 552</td>\n",
       "      <td>...</td>\n",
       "      <td>28.5697</td>\n",
       "      <td>-80.8191</td>\n",
       "      <td>54767</td>\n",
       "      <td>Set designer</td>\n",
       "      <td>25-07-1987</td>\n",
       "      <td>2159175b9efe66dc301f149d3d5abf8c</td>\n",
       "      <td>1371816915</td>\n",
       "      <td>28.812398</td>\n",
       "      <td>-80.883061</td>\n",
       "      <td>0</td>\n",
       "    </tr>\n",
       "    <tr>\n",
       "      <th>4</th>\n",
       "      <td>4</td>\n",
       "      <td>21/06/20 12:15:00</td>\n",
       "      <td>3.530000e+15</td>\n",
       "      <td>fraud_Johnston-Casper</td>\n",
       "      <td>travel</td>\n",
       "      <td>3.19</td>\n",
       "      <td>Nathan</td>\n",
       "      <td>Massey</td>\n",
       "      <td>M</td>\n",
       "      <td>5783 Evan Roads Apt. 465</td>\n",
       "      <td>...</td>\n",
       "      <td>44.2529</td>\n",
       "      <td>-85.0170</td>\n",
       "      <td>1126</td>\n",
       "      <td>Furniture designer</td>\n",
       "      <td>06-07-1955</td>\n",
       "      <td>57ff021bd3f328f8738bb535c302a31b</td>\n",
       "      <td>1371816917</td>\n",
       "      <td>44.959148</td>\n",
       "      <td>-85.884734</td>\n",
       "      <td>0</td>\n",
       "    </tr>\n",
       "  </tbody>\n",
       "</table>\n",
       "<p>5 rows × 23 columns</p>\n",
       "</div>"
      ],
      "text/plain": [
       "   Unnamed: 0 trans_date_trans_time        cc_num  \\\n",
       "0           0     21/06/20 12:14:00  2.290000e+15   \n",
       "1           1     21/06/20 12:14:00  3.570000e+15   \n",
       "2           2     21/06/20 12:14:00  3.600000e+15   \n",
       "3           3     21/06/20 12:15:00  3.590000e+15   \n",
       "4           4     21/06/20 12:15:00  3.530000e+15   \n",
       "\n",
       "                               merchant        category    amt   first  \\\n",
       "0                 fraud_Kirlin and Sons   personal_care   2.86    Jeff   \n",
       "1                  fraud_Sporer-Keebler   personal_care  29.84  Joanne   \n",
       "2  fraud_Swaniawski, Nitzsche and Welch  health_fitness  41.28  Ashley   \n",
       "3                     fraud_Haley Group        misc_pos  60.05   Brian   \n",
       "4                 fraud_Johnston-Casper          travel   3.19  Nathan   \n",
       "\n",
       "       last gender                       street  ...      lat      long  \\\n",
       "0   Elliott      M            351 Darlene Green  ...  33.9659  -80.9355   \n",
       "1  Williams      F             3638 Marsh Union  ...  40.3207 -110.4360   \n",
       "2     Lopez      F         9333 Valentine Point  ...  40.6729  -73.5365   \n",
       "3  Williams      M  32941 Krystal Mill Apt. 552  ...  28.5697  -80.8191   \n",
       "4    Massey      M     5783 Evan Roads Apt. 465  ...  44.2529  -85.0170   \n",
       "\n",
       "   city_pop                     job         dob  \\\n",
       "0    333497     Mechanical engineer  19-03-1968   \n",
       "1       302  Sales professional, IT  17-01-1990   \n",
       "2     34496       Librarian, public  21-10-1970   \n",
       "3     54767            Set designer  25-07-1987   \n",
       "4      1126      Furniture designer  06-07-1955   \n",
       "\n",
       "                          trans_num   unix_time  merch_lat  merch_long  \\\n",
       "0  2da90c7d74bd46a0caf3777415b3ebd3  1371816865  33.986391  -81.200714   \n",
       "1  324cc204407e99f51b0d6ca0055005e7  1371816873  39.450498 -109.960431   \n",
       "2  c81755dbbbea9d5c77f094348a7579be  1371816893  40.495810  -74.196111   \n",
       "3  2159175b9efe66dc301f149d3d5abf8c  1371816915  28.812398  -80.883061   \n",
       "4  57ff021bd3f328f8738bb535c302a31b  1371816917  44.959148  -85.884734   \n",
       "\n",
       "   is_fraud  \n",
       "0         0  \n",
       "1         0  \n",
       "2         0  \n",
       "3         0  \n",
       "4         0  \n",
       "\n",
       "[5 rows x 23 columns]"
      ]
     },
     "execution_count": 5,
     "metadata": {},
     "output_type": "execute_result"
    }
   ],
   "source": [
    "test_data.head(5)"
   ]
  },
  {
   "cell_type": "code",
   "execution_count": 6,
   "metadata": {},
   "outputs": [
    {
     "data": {
      "text/plain": [
       "(1048575, 23)"
      ]
     },
     "execution_count": 6,
     "metadata": {},
     "output_type": "execute_result"
    }
   ],
   "source": [
    "train_data.shape"
   ]
  },
  {
   "cell_type": "code",
   "execution_count": 9,
   "metadata": {},
   "outputs": [
    {
     "data": {
      "text/plain": [
       "(555719, 23)"
      ]
     },
     "execution_count": 9,
     "metadata": {},
     "output_type": "execute_result"
    }
   ],
   "source": [
    "test_data.shape"
   ]
  },
  {
   "cell_type": "code",
   "execution_count": 3,
   "metadata": {
    "colab": {
     "base_uri": "https://localhost:8080/"
    },
    "executionInfo": {
     "elapsed": 2563,
     "status": "ok",
     "timestamp": 1711977948959,
     "user": {
      "displayName": "Shruti M Timmanagoudar",
      "userId": "14013848575536859607"
     },
     "user_tz": -330
    },
    "id": "AC2yXlg7wYQ_",
    "outputId": "9392c868-d939-478a-ce51-c96959c097ae"
   },
   "outputs": [
    {
     "name": "stdout",
     "output_type": "stream",
     "text": [
      "<class 'pandas.core.frame.DataFrame'>\n",
      "RangeIndex: 1048575 entries, 0 to 1048574\n",
      "Data columns (total 23 columns):\n",
      " #   Column                 Non-Null Count    Dtype  \n",
      "---  ------                 --------------    -----  \n",
      " 0   Unnamed: 0             1048575 non-null  int64  \n",
      " 1   trans_date_trans_time  1048575 non-null  object \n",
      " 2   cc_num                 1048575 non-null  float64\n",
      " 3   merchant               1048575 non-null  object \n",
      " 4   category               1048575 non-null  object \n",
      " 5   amt                    1048575 non-null  float64\n",
      " 6   first                  1048575 non-null  object \n",
      " 7   last                   1048575 non-null  object \n",
      " 8   gender                 1048575 non-null  object \n",
      " 9   street                 1048575 non-null  object \n",
      " 10  city                   1048575 non-null  object \n",
      " 11  state                  1048575 non-null  object \n",
      " 12  zip                    1048575 non-null  int64  \n",
      " 13  lat                    1048575 non-null  float64\n",
      " 14  long                   1048575 non-null  float64\n",
      " 15  city_pop               1048575 non-null  int64  \n",
      " 16  job                    1048575 non-null  object \n",
      " 17  dob                    1048575 non-null  object \n",
      " 18  trans_num              1048575 non-null  object \n",
      " 19  unix_time              1048575 non-null  int64  \n",
      " 20  merch_lat              1048575 non-null  float64\n",
      " 21  merch_long             1048575 non-null  float64\n",
      " 22  is_fraud               1048575 non-null  int64  \n",
      "dtypes: float64(6), int64(5), object(12)\n",
      "memory usage: 184.0+ MB\n",
      "<class 'pandas.core.frame.DataFrame'>\n",
      "RangeIndex: 555719 entries, 0 to 555718\n",
      "Data columns (total 23 columns):\n",
      " #   Column                 Non-Null Count   Dtype  \n",
      "---  ------                 --------------   -----  \n",
      " 0   Unnamed: 0             555719 non-null  int64  \n",
      " 1   trans_date_trans_time  555719 non-null  object \n",
      " 2   cc_num                 555719 non-null  float64\n",
      " 3   merchant               555719 non-null  object \n",
      " 4   category               555719 non-null  object \n",
      " 5   amt                    555719 non-null  float64\n",
      " 6   first                  555719 non-null  object \n",
      " 7   last                   555719 non-null  object \n",
      " 8   gender                 555719 non-null  object \n",
      " 9   street                 555719 non-null  object \n",
      " 10  city                   555719 non-null  object \n",
      " 11  state                  555719 non-null  object \n",
      " 12  zip                    555719 non-null  int64  \n",
      " 13  lat                    555719 non-null  float64\n",
      " 14  long                   555719 non-null  float64\n",
      " 15  city_pop               555719 non-null  int64  \n",
      " 16  job                    555719 non-null  object \n",
      " 17  dob                    555719 non-null  object \n",
      " 18  trans_num              555719 non-null  object \n",
      " 19  unix_time              555719 non-null  int64  \n",
      " 20  merch_lat              555719 non-null  float64\n",
      " 21  merch_long             555719 non-null  float64\n",
      " 22  is_fraud               555719 non-null  int64  \n",
      "dtypes: float64(6), int64(5), object(12)\n",
      "memory usage: 97.5+ MB\n"
     ]
    },
    {
     "data": {
      "text/plain": [
       "(None, None)"
      ]
     },
     "execution_count": 3,
     "metadata": {},
     "output_type": "execute_result"
    }
   ],
   "source": [
    "train_data.info(),test_data.info()"
   ]
  },
  {
   "cell_type": "code",
   "execution_count": 4,
   "metadata": {
    "colab": {
     "base_uri": "https://localhost:8080/",
     "height": 320
    },
    "executionInfo": {
     "elapsed": 1381,
     "status": "ok",
     "timestamp": 1711977957154,
     "user": {
      "displayName": "Shruti M Timmanagoudar",
      "userId": "14013848575536859607"
     },
     "user_tz": -330
    },
    "id": "SfvYRhUfwdGb",
    "outputId": "d8dbd447-45ba-490d-bebc-ef96ffa58576"
   },
   "outputs": [
    {
     "data": {
      "text/html": [
       "<div>\n",
       "<style scoped>\n",
       "    .dataframe tbody tr th:only-of-type {\n",
       "        vertical-align: middle;\n",
       "    }\n",
       "\n",
       "    .dataframe tbody tr th {\n",
       "        vertical-align: top;\n",
       "    }\n",
       "\n",
       "    .dataframe thead th {\n",
       "        text-align: right;\n",
       "    }\n",
       "</style>\n",
       "<table border=\"1\" class=\"dataframe\">\n",
       "  <thead>\n",
       "    <tr style=\"text-align: right;\">\n",
       "      <th></th>\n",
       "      <th>Unnamed: 0</th>\n",
       "      <th>cc_num</th>\n",
       "      <th>amt</th>\n",
       "      <th>zip</th>\n",
       "      <th>lat</th>\n",
       "      <th>long</th>\n",
       "      <th>city_pop</th>\n",
       "      <th>unix_time</th>\n",
       "      <th>merch_lat</th>\n",
       "      <th>merch_long</th>\n",
       "      <th>is_fraud</th>\n",
       "    </tr>\n",
       "  </thead>\n",
       "  <tbody>\n",
       "    <tr>\n",
       "      <th>count</th>\n",
       "      <td>1.048575e+06</td>\n",
       "      <td>1.048575e+06</td>\n",
       "      <td>1.048575e+06</td>\n",
       "      <td>1.048575e+06</td>\n",
       "      <td>1.048575e+06</td>\n",
       "      <td>1.048575e+06</td>\n",
       "      <td>1.048575e+06</td>\n",
       "      <td>1.048575e+06</td>\n",
       "      <td>1.048575e+06</td>\n",
       "      <td>1.048575e+06</td>\n",
       "      <td>1.048575e+06</td>\n",
       "    </tr>\n",
       "    <tr>\n",
       "      <th>mean</th>\n",
       "      <td>5.242870e+05</td>\n",
       "      <td>4.171565e+17</td>\n",
       "      <td>7.027910e+01</td>\n",
       "      <td>4.880159e+04</td>\n",
       "      <td>3.853336e+01</td>\n",
       "      <td>-9.022626e+01</td>\n",
       "      <td>8.905776e+04</td>\n",
       "      <td>1.344906e+09</td>\n",
       "      <td>3.853346e+01</td>\n",
       "      <td>-9.022648e+01</td>\n",
       "      <td>5.727773e-03</td>\n",
       "    </tr>\n",
       "    <tr>\n",
       "      <th>std</th>\n",
       "      <td>3.026977e+05</td>\n",
       "      <td>1.308811e+18</td>\n",
       "      <td>1.599518e+02</td>\n",
       "      <td>2.689804e+04</td>\n",
       "      <td>5.076852e+00</td>\n",
       "      <td>1.375858e+01</td>\n",
       "      <td>3.024351e+05</td>\n",
       "      <td>1.019700e+07</td>\n",
       "      <td>5.111233e+00</td>\n",
       "      <td>1.377093e+01</td>\n",
       "      <td>7.546503e-02</td>\n",
       "    </tr>\n",
       "    <tr>\n",
       "      <th>min</th>\n",
       "      <td>0.000000e+00</td>\n",
       "      <td>6.041621e+10</td>\n",
       "      <td>1.000000e+00</td>\n",
       "      <td>1.257000e+03</td>\n",
       "      <td>2.002710e+01</td>\n",
       "      <td>-1.656723e+02</td>\n",
       "      <td>2.300000e+01</td>\n",
       "      <td>1.325376e+09</td>\n",
       "      <td>1.902779e+01</td>\n",
       "      <td>-1.666712e+02</td>\n",
       "      <td>0.000000e+00</td>\n",
       "    </tr>\n",
       "    <tr>\n",
       "      <th>25%</th>\n",
       "      <td>2.621435e+05</td>\n",
       "      <td>1.800400e+14</td>\n",
       "      <td>9.640000e+00</td>\n",
       "      <td>2.623700e+04</td>\n",
       "      <td>3.462050e+01</td>\n",
       "      <td>-9.679800e+01</td>\n",
       "      <td>7.430000e+02</td>\n",
       "      <td>1.336682e+09</td>\n",
       "      <td>3.472954e+01</td>\n",
       "      <td>-9.689864e+01</td>\n",
       "      <td>0.000000e+00</td>\n",
       "    </tr>\n",
       "    <tr>\n",
       "      <th>50%</th>\n",
       "      <td>5.242870e+05</td>\n",
       "      <td>3.520550e+15</td>\n",
       "      <td>4.745000e+01</td>\n",
       "      <td>4.817400e+04</td>\n",
       "      <td>3.935430e+01</td>\n",
       "      <td>-8.747690e+01</td>\n",
       "      <td>2.456000e+03</td>\n",
       "      <td>1.344902e+09</td>\n",
       "      <td>3.936295e+01</td>\n",
       "      <td>-8.743923e+01</td>\n",
       "      <td>0.000000e+00</td>\n",
       "    </tr>\n",
       "    <tr>\n",
       "      <th>75%</th>\n",
       "      <td>7.864305e+05</td>\n",
       "      <td>4.642260e+15</td>\n",
       "      <td>8.305000e+01</td>\n",
       "      <td>7.204200e+04</td>\n",
       "      <td>4.194040e+01</td>\n",
       "      <td>-8.015800e+01</td>\n",
       "      <td>2.032800e+04</td>\n",
       "      <td>1.354366e+09</td>\n",
       "      <td>4.195602e+01</td>\n",
       "      <td>-8.023228e+01</td>\n",
       "      <td>0.000000e+00</td>\n",
       "    </tr>\n",
       "    <tr>\n",
       "      <th>max</th>\n",
       "      <td>1.048574e+06</td>\n",
       "      <td>4.992350e+18</td>\n",
       "      <td>2.894890e+04</td>\n",
       "      <td>9.978300e+04</td>\n",
       "      <td>6.669330e+01</td>\n",
       "      <td>-6.795030e+01</td>\n",
       "      <td>2.906700e+06</td>\n",
       "      <td>1.362932e+09</td>\n",
       "      <td>6.751027e+01</td>\n",
       "      <td>-6.695090e+01</td>\n",
       "      <td>1.000000e+00</td>\n",
       "    </tr>\n",
       "  </tbody>\n",
       "</table>\n",
       "</div>"
      ],
      "text/plain": [
       "         Unnamed: 0        cc_num           amt           zip           lat  \\\n",
       "count  1.048575e+06  1.048575e+06  1.048575e+06  1.048575e+06  1.048575e+06   \n",
       "mean   5.242870e+05  4.171565e+17  7.027910e+01  4.880159e+04  3.853336e+01   \n",
       "std    3.026977e+05  1.308811e+18  1.599518e+02  2.689804e+04  5.076852e+00   \n",
       "min    0.000000e+00  6.041621e+10  1.000000e+00  1.257000e+03  2.002710e+01   \n",
       "25%    2.621435e+05  1.800400e+14  9.640000e+00  2.623700e+04  3.462050e+01   \n",
       "50%    5.242870e+05  3.520550e+15  4.745000e+01  4.817400e+04  3.935430e+01   \n",
       "75%    7.864305e+05  4.642260e+15  8.305000e+01  7.204200e+04  4.194040e+01   \n",
       "max    1.048574e+06  4.992350e+18  2.894890e+04  9.978300e+04  6.669330e+01   \n",
       "\n",
       "               long      city_pop     unix_time     merch_lat    merch_long  \\\n",
       "count  1.048575e+06  1.048575e+06  1.048575e+06  1.048575e+06  1.048575e+06   \n",
       "mean  -9.022626e+01  8.905776e+04  1.344906e+09  3.853346e+01 -9.022648e+01   \n",
       "std    1.375858e+01  3.024351e+05  1.019700e+07  5.111233e+00  1.377093e+01   \n",
       "min   -1.656723e+02  2.300000e+01  1.325376e+09  1.902779e+01 -1.666712e+02   \n",
       "25%   -9.679800e+01  7.430000e+02  1.336682e+09  3.472954e+01 -9.689864e+01   \n",
       "50%   -8.747690e+01  2.456000e+03  1.344902e+09  3.936295e+01 -8.743923e+01   \n",
       "75%   -8.015800e+01  2.032800e+04  1.354366e+09  4.195602e+01 -8.023228e+01   \n",
       "max   -6.795030e+01  2.906700e+06  1.362932e+09  6.751027e+01 -6.695090e+01   \n",
       "\n",
       "           is_fraud  \n",
       "count  1.048575e+06  \n",
       "mean   5.727773e-03  \n",
       "std    7.546503e-02  \n",
       "min    0.000000e+00  \n",
       "25%    0.000000e+00  \n",
       "50%    0.000000e+00  \n",
       "75%    0.000000e+00  \n",
       "max    1.000000e+00  "
      ]
     },
     "execution_count": 4,
     "metadata": {},
     "output_type": "execute_result"
    }
   ],
   "source": [
    "train_data.describe()"
   ]
  },
  {
   "cell_type": "code",
   "execution_count": 5,
   "metadata": {
    "colab": {
     "base_uri": "https://localhost:8080/"
    },
    "executionInfo": {
     "elapsed": 628,
     "status": "ok",
     "timestamp": 1711977959788,
     "user": {
      "displayName": "Shruti M Timmanagoudar",
      "userId": "14013848575536859607"
     },
     "user_tz": -330
    },
    "id": "hjWQMUB8wfdK",
    "outputId": "16a50c91-e50d-4243-a0ad-23038ea1856a"
   },
   "outputs": [
    {
     "data": {
      "text/plain": [
       "Index(['Unnamed: 0', 'trans_date_trans_time', 'cc_num', 'merchant', 'category',\n",
       "       'amt', 'first', 'last', 'gender', 'street', 'city', 'state', 'zip',\n",
       "       'lat', 'long', 'city_pop', 'job', 'dob', 'trans_num', 'unix_time',\n",
       "       'merch_lat', 'merch_long', 'is_fraud'],\n",
       "      dtype='object')"
      ]
     },
     "execution_count": 5,
     "metadata": {},
     "output_type": "execute_result"
    }
   ],
   "source": [
    "train_data.columns"
   ]
  },
  {
   "cell_type": "markdown",
   "metadata": {},
   "source": [
    "# Data cleanings "
   ]
  },
  {
   "cell_type": "code",
   "execution_count": 6,
   "metadata": {
    "colab": {
     "base_uri": "https://localhost:8080/"
    },
    "executionInfo": {
     "elapsed": 986,
     "status": "ok",
     "timestamp": 1711977963782,
     "user": {
      "displayName": "Shruti M Timmanagoudar",
      "userId": "14013848575536859607"
     },
     "user_tz": -330
    },
    "id": "_tv7230jwlYw",
    "outputId": "162aa5e8-7e57-4d6e-8769-92c02cfbf75e"
   },
   "outputs": [
    {
     "data": {
      "text/plain": [
       "Unnamed: 0               0\n",
       "trans_date_trans_time    0\n",
       "cc_num                   0\n",
       "merchant                 0\n",
       "category                 0\n",
       "amt                      0\n",
       "first                    0\n",
       "last                     0\n",
       "gender                   0\n",
       "street                   0\n",
       "city                     0\n",
       "state                    0\n",
       "zip                      0\n",
       "lat                      0\n",
       "long                     0\n",
       "city_pop                 0\n",
       "job                      0\n",
       "dob                      0\n",
       "trans_num                0\n",
       "unix_time                0\n",
       "merch_lat                0\n",
       "merch_long               0\n",
       "is_fraud                 0\n",
       "dtype: int64"
      ]
     },
     "execution_count": 6,
     "metadata": {},
     "output_type": "execute_result"
    }
   ],
   "source": [
    "train_data.isnull().sum()"
   ]
  },
  {
   "cell_type": "code",
   "execution_count": 10,
   "metadata": {},
   "outputs": [
    {
     "data": {
      "text/plain": [
       "0"
      ]
     },
     "execution_count": 10,
     "metadata": {},
     "output_type": "execute_result"
    }
   ],
   "source": [
    "train_data.duplicated().sum()"
   ]
  },
  {
   "cell_type": "code",
   "execution_count": 11,
   "metadata": {},
   "outputs": [
    {
     "data": {
      "text/plain": [
       "0"
      ]
     },
     "execution_count": 11,
     "metadata": {},
     "output_type": "execute_result"
    }
   ],
   "source": [
    "test_data.duplicated().sum()"
   ]
  },
  {
   "cell_type": "code",
   "execution_count": 12,
   "metadata": {},
   "outputs": [
    {
     "name": "stdout",
     "output_type": "stream",
     "text": [
      "Unique values in column Unnamed: 0: 1048575\n",
      "Unique values in column trans_date_trans_time: 476595\n",
      "Unique values in column cc_num: 320\n",
      "Unique values in column merchant: 693\n",
      "Unique values in column category: 14\n",
      "Unique values in column amt: 48602\n",
      "Unique values in column first: 348\n",
      "Unique values in column last: 479\n",
      "Unique values in column gender: 2\n",
      "Unique values in column street: 965\n",
      "Unique values in column city: 879\n",
      "Unique values in column state: 51\n",
      "Unique values in column zip: 952\n",
      "Unique values in column lat: 950\n",
      "Unique values in column long: 951\n",
      "Unique values in column city_pop: 865\n",
      "Unique values in column job: 493\n",
      "Unique values in column dob: 950\n",
      "Unique values in column trans_num: 1048575\n",
      "Unique values in column unix_time: 1030650\n",
      "Unique values in column merch_lat: 1016437\n",
      "Unique values in column merch_long: 1034825\n",
      "Unique values in column is_fraud: 2\n"
     ]
    }
   ],
   "source": [
    "for column_name in train_data.columns:\n",
    "    unique_values = train_data[column_name].nunique()\n",
    "    print(f'Unique values in column {column_name}: {unique_values}')\n"
   ]
  },
  {
   "cell_type": "code",
   "execution_count": 13,
   "metadata": {},
   "outputs": [
    {
     "name": "stdout",
     "output_type": "stream",
     "text": [
      "Unique values in column Unnamed: 0: 555719\n",
      "Unique values in column trans_date_trans_time: 226976\n",
      "Unique values in column cc_num: 319\n",
      "Unique values in column merchant: 693\n",
      "Unique values in column category: 14\n",
      "Unique values in column amt: 37256\n",
      "Unique values in column first: 341\n",
      "Unique values in column last: 471\n",
      "Unique values in column gender: 2\n",
      "Unique values in column street: 924\n",
      "Unique values in column city: 849\n",
      "Unique values in column state: 50\n",
      "Unique values in column zip: 912\n",
      "Unique values in column lat: 910\n",
      "Unique values in column long: 910\n",
      "Unique values in column city_pop: 835\n",
      "Unique values in column job: 478\n",
      "Unique values in column dob: 910\n",
      "Unique values in column trans_num: 555719\n",
      "Unique values in column unix_time: 544760\n",
      "Unique values in column merch_lat: 546490\n",
      "Unique values in column merch_long: 551770\n",
      "Unique values in column is_fraud: 2\n"
     ]
    }
   ],
   "source": [
    "for column_name in test_data.columns:\n",
    "    unique_values = test_data[column_name].nunique()\n",
    "    print(f'Unique values in column {column_name}: {unique_values}')\n"
   ]
  },
  {
   "cell_type": "code",
   "execution_count": 7,
   "metadata": {
    "colab": {
     "base_uri": "https://localhost:8080/"
    },
    "executionInfo": {
     "elapsed": 764,
     "status": "ok",
     "timestamp": 1711977968710,
     "user": {
      "displayName": "Shruti M Timmanagoudar",
      "userId": "14013848575536859607"
     },
     "user_tz": -330
    },
    "id": "4oLnAyzzwwws",
    "outputId": "87c23c8a-b8f0-42e6-abf1-0462fd8ab167"
   },
   "outputs": [
    {
     "name": "stdout",
     "output_type": "stream",
     "text": [
      "is_fraud\n",
      "0    1042569\n",
      "1       6006\n",
      "Name: count, dtype: int64\n"
     ]
    }
   ],
   "source": [
    "print(train_data['is_fraud'].value_counts())"
   ]
  },
  {
   "cell_type": "code",
   "execution_count": 8,
   "metadata": {
    "colab": {
     "base_uri": "https://localhost:8080/",
     "height": 550
    },
    "executionInfo": {
     "elapsed": 25,
     "status": "ok",
     "timestamp": 1711977970916,
     "user": {
      "displayName": "Shruti M Timmanagoudar",
      "userId": "14013848575536859607"
     },
     "user_tz": -330
    },
    "id": "FM7a7oIww4zP",
    "outputId": "7ad29e3f-c464-4103-932a-177ec9550197"
   },
   "outputs": [
    {
     "data": {
      "text/html": [
       "<div>\n",
       "<style scoped>\n",
       "    .dataframe tbody tr th:only-of-type {\n",
       "        vertical-align: middle;\n",
       "    }\n",
       "\n",
       "    .dataframe tbody tr th {\n",
       "        vertical-align: top;\n",
       "    }\n",
       "\n",
       "    .dataframe thead th {\n",
       "        text-align: right;\n",
       "    }\n",
       "</style>\n",
       "<table border=\"1\" class=\"dataframe\">\n",
       "  <thead>\n",
       "    <tr style=\"text-align: right;\">\n",
       "      <th></th>\n",
       "      <th>Unnamed: 0</th>\n",
       "      <th>trans_date_trans_time</th>\n",
       "      <th>cc_num</th>\n",
       "      <th>merchant</th>\n",
       "      <th>category</th>\n",
       "      <th>amt</th>\n",
       "      <th>first</th>\n",
       "      <th>last</th>\n",
       "      <th>gender</th>\n",
       "      <th>street</th>\n",
       "      <th>...</th>\n",
       "      <th>lat</th>\n",
       "      <th>long</th>\n",
       "      <th>city_pop</th>\n",
       "      <th>job</th>\n",
       "      <th>dob</th>\n",
       "      <th>trans_num</th>\n",
       "      <th>unix_time</th>\n",
       "      <th>merch_lat</th>\n",
       "      <th>merch_long</th>\n",
       "      <th>is_fraud</th>\n",
       "    </tr>\n",
       "  </thead>\n",
       "  <tbody>\n",
       "    <tr>\n",
       "      <th>0</th>\n",
       "      <td>0</td>\n",
       "      <td>01-01-2019 00:00</td>\n",
       "      <td>2.703190e+15</td>\n",
       "      <td>fraud_Rippin, Kub and Mann</td>\n",
       "      <td>misc_net</td>\n",
       "      <td>4.97</td>\n",
       "      <td>Jennifer</td>\n",
       "      <td>Banks</td>\n",
       "      <td>F</td>\n",
       "      <td>561 Perry Cove</td>\n",
       "      <td>...</td>\n",
       "      <td>36.0788</td>\n",
       "      <td>-81.1781</td>\n",
       "      <td>3495</td>\n",
       "      <td>Psychologist, counselling</td>\n",
       "      <td>09-03-1988</td>\n",
       "      <td>0b242abb623afc578575680df30655b9</td>\n",
       "      <td>1325376018</td>\n",
       "      <td>36.011293</td>\n",
       "      <td>-82.048315</td>\n",
       "      <td>0</td>\n",
       "    </tr>\n",
       "    <tr>\n",
       "      <th>1</th>\n",
       "      <td>1</td>\n",
       "      <td>01-01-2019 00:00</td>\n",
       "      <td>6.304230e+11</td>\n",
       "      <td>fraud_Heller, Gutmann and Zieme</td>\n",
       "      <td>grocery_pos</td>\n",
       "      <td>107.23</td>\n",
       "      <td>Stephanie</td>\n",
       "      <td>Gill</td>\n",
       "      <td>F</td>\n",
       "      <td>43039 Riley Greens Suite 393</td>\n",
       "      <td>...</td>\n",
       "      <td>48.8878</td>\n",
       "      <td>-118.2105</td>\n",
       "      <td>149</td>\n",
       "      <td>Special educational needs teacher</td>\n",
       "      <td>21-06-1978</td>\n",
       "      <td>1f76529f8574734946361c461b024d99</td>\n",
       "      <td>1325376044</td>\n",
       "      <td>49.159047</td>\n",
       "      <td>-118.186462</td>\n",
       "      <td>0</td>\n",
       "    </tr>\n",
       "    <tr>\n",
       "      <th>2</th>\n",
       "      <td>2</td>\n",
       "      <td>01-01-2019 00:00</td>\n",
       "      <td>3.885950e+13</td>\n",
       "      <td>fraud_Lind-Buckridge</td>\n",
       "      <td>entertainment</td>\n",
       "      <td>220.11</td>\n",
       "      <td>Edward</td>\n",
       "      <td>Sanchez</td>\n",
       "      <td>M</td>\n",
       "      <td>594 White Dale Suite 530</td>\n",
       "      <td>...</td>\n",
       "      <td>42.1808</td>\n",
       "      <td>-112.2620</td>\n",
       "      <td>4154</td>\n",
       "      <td>Nature conservation officer</td>\n",
       "      <td>19-01-1962</td>\n",
       "      <td>a1a22d70485983eac12b5b88dad1cf95</td>\n",
       "      <td>1325376051</td>\n",
       "      <td>43.150704</td>\n",
       "      <td>-112.154481</td>\n",
       "      <td>0</td>\n",
       "    </tr>\n",
       "    <tr>\n",
       "      <th>3</th>\n",
       "      <td>3</td>\n",
       "      <td>01-01-2019 00:01</td>\n",
       "      <td>3.534090e+15</td>\n",
       "      <td>fraud_Kutch, Hermiston and Farrell</td>\n",
       "      <td>gas_transport</td>\n",
       "      <td>45.00</td>\n",
       "      <td>Jeremy</td>\n",
       "      <td>White</td>\n",
       "      <td>M</td>\n",
       "      <td>9443 Cynthia Court Apt. 038</td>\n",
       "      <td>...</td>\n",
       "      <td>46.2306</td>\n",
       "      <td>-112.1138</td>\n",
       "      <td>1939</td>\n",
       "      <td>Patent attorney</td>\n",
       "      <td>12-01-1967</td>\n",
       "      <td>6b849c168bdad6f867558c3793159a81</td>\n",
       "      <td>1325376076</td>\n",
       "      <td>47.034331</td>\n",
       "      <td>-112.561071</td>\n",
       "      <td>0</td>\n",
       "    </tr>\n",
       "    <tr>\n",
       "      <th>4</th>\n",
       "      <td>4</td>\n",
       "      <td>01-01-2019 00:03</td>\n",
       "      <td>3.755340e+14</td>\n",
       "      <td>fraud_Keeling-Crist</td>\n",
       "      <td>misc_pos</td>\n",
       "      <td>41.96</td>\n",
       "      <td>Tyler</td>\n",
       "      <td>Garcia</td>\n",
       "      <td>M</td>\n",
       "      <td>408 Bradley Rest</td>\n",
       "      <td>...</td>\n",
       "      <td>38.4207</td>\n",
       "      <td>-79.4629</td>\n",
       "      <td>99</td>\n",
       "      <td>Dance movement psychotherapist</td>\n",
       "      <td>28-03-1986</td>\n",
       "      <td>a41d7549acf90789359a9aa5346dcb46</td>\n",
       "      <td>1325376186</td>\n",
       "      <td>38.674999</td>\n",
       "      <td>-78.632459</td>\n",
       "      <td>0</td>\n",
       "    </tr>\n",
       "  </tbody>\n",
       "</table>\n",
       "<p>5 rows × 23 columns</p>\n",
       "</div>"
      ],
      "text/plain": [
       "   Unnamed: 0 trans_date_trans_time        cc_num  \\\n",
       "0           0      01-01-2019 00:00  2.703190e+15   \n",
       "1           1      01-01-2019 00:00  6.304230e+11   \n",
       "2           2      01-01-2019 00:00  3.885950e+13   \n",
       "3           3      01-01-2019 00:01  3.534090e+15   \n",
       "4           4      01-01-2019 00:03  3.755340e+14   \n",
       "\n",
       "                             merchant       category     amt      first  \\\n",
       "0          fraud_Rippin, Kub and Mann       misc_net    4.97   Jennifer   \n",
       "1     fraud_Heller, Gutmann and Zieme    grocery_pos  107.23  Stephanie   \n",
       "2                fraud_Lind-Buckridge  entertainment  220.11     Edward   \n",
       "3  fraud_Kutch, Hermiston and Farrell  gas_transport   45.00     Jeremy   \n",
       "4                 fraud_Keeling-Crist       misc_pos   41.96      Tyler   \n",
       "\n",
       "      last gender                        street  ...      lat      long  \\\n",
       "0    Banks      F                561 Perry Cove  ...  36.0788  -81.1781   \n",
       "1     Gill      F  43039 Riley Greens Suite 393  ...  48.8878 -118.2105   \n",
       "2  Sanchez      M      594 White Dale Suite 530  ...  42.1808 -112.2620   \n",
       "3    White      M   9443 Cynthia Court Apt. 038  ...  46.2306 -112.1138   \n",
       "4   Garcia      M              408 Bradley Rest  ...  38.4207  -79.4629   \n",
       "\n",
       "   city_pop                                job         dob  \\\n",
       "0      3495          Psychologist, counselling  09-03-1988   \n",
       "1       149  Special educational needs teacher  21-06-1978   \n",
       "2      4154        Nature conservation officer  19-01-1962   \n",
       "3      1939                    Patent attorney  12-01-1967   \n",
       "4        99     Dance movement psychotherapist  28-03-1986   \n",
       "\n",
       "                          trans_num   unix_time  merch_lat  merch_long  \\\n",
       "0  0b242abb623afc578575680df30655b9  1325376018  36.011293  -82.048315   \n",
       "1  1f76529f8574734946361c461b024d99  1325376044  49.159047 -118.186462   \n",
       "2  a1a22d70485983eac12b5b88dad1cf95  1325376051  43.150704 -112.154481   \n",
       "3  6b849c168bdad6f867558c3793159a81  1325376076  47.034331 -112.561071   \n",
       "4  a41d7549acf90789359a9aa5346dcb46  1325376186  38.674999  -78.632459   \n",
       "\n",
       "   is_fraud  \n",
       "0         0  \n",
       "1         0  \n",
       "2         0  \n",
       "3         0  \n",
       "4         0  \n",
       "\n",
       "[5 rows x 23 columns]"
      ]
     },
     "execution_count": 8,
     "metadata": {},
     "output_type": "execute_result"
    }
   ],
   "source": [
    "train_data.head(5)"
   ]
  },
  {
   "cell_type": "markdown",
   "metadata": {},
   "source": [
    "# Data visualization & Exploration "
   ]
  },
  {
   "cell_type": "code",
   "execution_count": 9,
   "metadata": {
    "colab": {
     "base_uri": "https://localhost:8080/",
     "height": 572
    },
    "executionInfo": {
     "elapsed": 1972,
     "status": "ok",
     "timestamp": 1711977977198,
     "user": {
      "displayName": "Shruti M Timmanagoudar",
      "userId": "14013848575536859607"
     },
     "user_tz": -330
    },
    "id": "I-ltK3qiw1mx",
    "outputId": "9eb4c225-72d2-4ce6-87e2-bd1d335bb670"
   },
   "outputs": [
    {
     "name": "stderr",
     "output_type": "stream",
     "text": [
      "C:\\Users\\Admin\\AppData\\Local\\Temp\\ipykernel_8420\\619643735.py:2: FutureWarning: \n",
      "\n",
      "Passing `palette` without assigning `hue` is deprecated and will be removed in v0.14.0. Assign the `x` variable to `hue` and set `legend=False` for the same effect.\n",
      "\n",
      "  fg=sns.countplot(x='is_fraud',data=train_data,palette=\"pastel\")\n"
     ]
    },
    {
     "data": {
      "image/png": "[encoded data removed]",
      "text/plain": [
       "<Figure size 500x500 with 1 Axes>"
      ]
     },
     "metadata": {},
     "output_type": "display_data"
    }
   ],
   "source": [
    "plt.figure(figsize=(5,5))\n",
    "fg=sns.countplot(x='is_fraud',data=train_data,palette=\"pastel\")\n",
    "plt.show(fg)"
   ]
  },
  {
   "cell_type": "code",
   "execution_count": 10,
   "metadata": {
    "colab": {
     "base_uri": "https://localhost:8080/",
     "height": 489
    },
    "executionInfo": {
     "elapsed": 1590,
     "status": "ok",
     "timestamp": 1711977982543,
     "user": {
      "displayName": "Shruti M Timmanagoudar",
      "userId": "14013848575536859607"
     },
     "user_tz": -330
    },
    "id": "PSnLl9XcxAlM",
    "outputId": "8f4fbd49-eef2-4733-dd1c-c3d0ad6bdc53"
   },
   "outputs": [
    {
     "data": {
      "text/plain": [
       "Text(0.5, 1.0, 'The Percentage Difference of Fraudulent over Non-Fraudulent Transations in Each Spending Category ')"
      ]
     },
     "execution_count": 10,
     "metadata": {},
     "output_type": "execute_result"
    },
    {
     "data": {
      "image/png": "[encoded data removed]",
      "text/plain": [
       "<Figure size 640x480 with 1 Axes>"
      ]
     },
     "metadata": {},
     "output_type": "display_data"
    }
   ],
   "source": [
    "a=train_data[train_data['is_fraud']==0]['category'].value_counts(normalize=True).to_frame().reset_index()\n",
    "a.columns=['category','not fraud percentage']\n",
    "\n",
    "b=train_data[train_data['is_fraud']==1]['category'].value_counts(normalize=True).to_frame().reset_index()\n",
    "b.columns=['category','fraud percentage']\n",
    "ab=a.merge(b,on='category')\n",
    "ab['diff']=ab['fraud percentage']-ab['not fraud percentage']\n",
    "\n",
    "ax=sns.barplot(y='category',x='diff',data=ab.sort_values('diff',ascending=False))\n",
    "ax.set_xlabel('Percentage Difference')\n",
    "ax.set_ylabel('Transaction Category')\n",
    "plt.title('The Percentage Difference of Fraudulent over Non-Fraudulent Transations in Each Spending Category ')"
   ]
  },
  {
   "cell_type": "markdown",
   "metadata": {
    "id": "QYtY95MVxFR1"
   },
   "source": [
    "Some spending categories indeed see more fraud than others! Fraud tends to happen more often in 'Shopping_net', 'Grocery_pos', and 'misc_net' while 'home' and 'kids_pets' among others tend to see more normal transactions than fraudulent ones."
   ]
  },
  {
   "cell_type": "markdown",
   "metadata": {
    "id": "O9aytCaJxHxB"
   },
   "source": [
    "#Preprocessing\n",
    "Handle Date Time"
   ]
  },
  {
   "cell_type": "code",
   "execution_count": 11,
   "metadata": {
    "colab": {
     "base_uri": "https://localhost:8080/",
     "height": 877
    },
    "executionInfo": {
     "elapsed": 1615,
     "status": "ok",
     "timestamp": 1711977989707,
     "user": {
      "displayName": "Shruti M Timmanagoudar",
      "userId": "14013848575536859607"
     },
     "user_tz": -330
    },
    "id": "EsoqJAECxNfK",
    "outputId": "243da6b7-4489-46a4-bba5-c5ec534ed914"
   },
   "outputs": [
    {
     "name": "stdout",
     "output_type": "stream",
     "text": [
      "         Unnamed: 0 trans_date_trans_time        cc_num  \\\n",
      "0                 0   2019-01-01 00:00:00  2.703190e+15   \n",
      "1                 1   2019-01-01 00:00:00  6.304230e+11   \n",
      "2                 2   2019-01-01 00:00:00  3.885950e+13   \n",
      "3                 3   2019-01-01 00:01:00  3.534090e+15   \n",
      "4                 4   2019-01-01 00:03:00  3.755340e+14   \n",
      "...             ...                   ...           ...   \n",
      "1048570     1048570   2020-03-10 16:07:00  6.011980e+15   \n",
      "1048571     1048571   2020-03-10 16:07:00  4.839040e+15   \n",
      "1048572     1048572   2020-03-10 16:08:00  5.718440e+11   \n",
      "1048573     1048573   2020-03-10 16:08:00  4.646850e+18   \n",
      "1048574     1048574   2020-03-10 16:08:00  2.283740e+15   \n",
      "\n",
      "                                   merchant        category     amt  \\\n",
      "0                fraud_Rippin, Kub and Mann        misc_net    4.97   \n",
      "1           fraud_Heller, Gutmann and Zieme     grocery_pos  107.23   \n",
      "2                      fraud_Lind-Buckridge   entertainment  220.11   \n",
      "3        fraud_Kutch, Hermiston and Farrell   gas_transport   45.00   \n",
      "4                       fraud_Keeling-Crist        misc_pos   41.96   \n",
      "...                                     ...             ...     ...   \n",
      "1048570                     fraud_Fadel Inc  health_fitness   77.00   \n",
      "1048571    fraud_Cremin, Hamill and Reichel        misc_pos  116.94   \n",
      "1048572  fraud_O'Connell, Botsford and Hand            home   21.27   \n",
      "1048573              fraud_Thompson-Gleason  health_fitness    9.52   \n",
      "1048574                 fraud_Buckridge PLC        misc_pos    6.81   \n",
      "\n",
      "             first      last gender                            street  ...  \\\n",
      "0         Jennifer     Banks      F                    561 Perry Cove  ...   \n",
      "1        Stephanie      Gill      F      43039 Riley Greens Suite 393  ...   \n",
      "2           Edward   Sanchez      M          594 White Dale Suite 530  ...   \n",
      "3           Jeremy     White      M       9443 Cynthia Court Apt. 038  ...   \n",
      "4            Tyler    Garcia      M                  408 Bradley Rest  ...   \n",
      "...            ...       ...    ...                               ...  ...   \n",
      "1048570      Haley    Wagner      F            05561 Farrell Crescent  ...   \n",
      "1048571   Meredith  Campbell      F               043 Hanson Turnpike  ...   \n",
      "1048572      Susan     Mills      F                  005 Cody Estates  ...   \n",
      "1048573      Julia      Bell      F               576 House Crossroad  ...   \n",
      "1048574    Shannon  Williams      F  9345 Spencer Junctions Suite 183  ...   \n",
      "\n",
      "             lat      long  city_pop                                job  \\\n",
      "0        36.0788  -81.1781      3495          Psychologist, counselling   \n",
      "1        48.8878 -118.2105       149  Special educational needs teacher   \n",
      "2        42.1808 -112.2620      4154        Nature conservation officer   \n",
      "3        46.2306 -112.1138      1939                    Patent attorney   \n",
      "4        38.4207  -79.4629        99     Dance movement psychotherapist   \n",
      "...          ...       ...       ...                                ...   \n",
      "1048570  39.0305  -76.5515     92106    Accountant, chartered certified   \n",
      "1048571  41.1826  -92.3097      1583                         Geochemist   \n",
      "1048572  38.2507  -85.7476    736284              Engineering geologist   \n",
      "1048573  40.7320  -73.1000      4056                  Film/video editor   \n",
      "1048574  34.0770  -84.3033    165556                     Prison officer   \n",
      "\n",
      "               dob                         trans_num   unix_time  merch_lat  \\\n",
      "0       1988-03-09  0b242abb623afc578575680df30655b9  1325376018  36.011293   \n",
      "1       1978-06-21  1f76529f8574734946361c461b024d99  1325376044  49.159047   \n",
      "2       1962-01-19  a1a22d70485983eac12b5b88dad1cf95  1325376051  43.150704   \n",
      "3       1967-01-12  6b849c168bdad6f867558c3793159a81  1325376076  47.034331   \n",
      "4       1986-03-28  a41d7549acf90789359a9aa5346dcb46  1325376186  38.674999   \n",
      "...            ...                               ...         ...        ...   \n",
      "1048570 1943-05-28  45ecd198c65e81e597db22e8d2ef7361  1362931649  38.779464   \n",
      "1048571 1999-06-28  c00ce51c6ebb7657474a77b9e0b51f34  1362931670  41.400318   \n",
      "1048572 1952-04-02  17c9dc8b2a6449ca2473726346e58e6c  1362931711  37.293339   \n",
      "1048573 1990-06-25  5ca650881b48a6a38754f841c23b77ab  1362931718  39.773077   \n",
      "1048574 1997-12-27  8d0a575fe635bbde12f1a2bffc126731  1362931730  33.601468   \n",
      "\n",
      "         merch_long  is_fraud  \n",
      "0        -82.048315         0  \n",
      "1       -118.186462         0  \n",
      "2       -112.154481         0  \n",
      "3       -112.561071         0  \n",
      "4        -78.632459         0  \n",
      "...             ...       ...  \n",
      "1048570  -76.317042         0  \n",
      "1048571  -92.726724         0  \n",
      "1048572  -84.798122         0  \n",
      "1048573  -72.213209         0  \n",
      "1048574  -83.891921         0  \n",
      "\n",
      "[1048575 rows x 23 columns]\n",
      "        Unnamed: 0 trans_date_trans_time        cc_num  \\\n",
      "0                0   2020-06-21 12:14:00  2.291160e+15   \n",
      "1                1   2020-06-21 12:14:00  3.573030e+15   \n",
      "2                2   2020-06-21 12:14:00  3.598220e+15   \n",
      "3                3   2020-06-21 12:15:00  3.591920e+15   \n",
      "4                4   2020-06-21 12:15:00  3.526830e+15   \n",
      "...            ...                   ...           ...   \n",
      "555714      555714   2020-12-31 23:59:00  3.056060e+13   \n",
      "555715      555715   2020-12-31 23:59:00  3.556610e+15   \n",
      "555716      555716   2020-12-31 23:59:00  6.011720e+15   \n",
      "555717      555717   2020-12-31 23:59:00  4.079770e+12   \n",
      "555718      555718   2020-12-31 23:59:00  4.170690e+15   \n",
      "\n",
      "                                    merchant        category     amt    first  \\\n",
      "0                      fraud_Kirlin and Sons   personal_care    2.86     Jeff   \n",
      "1                       fraud_Sporer-Keebler   personal_care   29.84   Joanne   \n",
      "2       fraud_Swaniawski, Nitzsche and Welch  health_fitness   41.28   Ashley   \n",
      "3                          fraud_Haley Group        misc_pos   60.05    Brian   \n",
      "4                      fraud_Johnston-Casper          travel    3.19   Nathan   \n",
      "...                                      ...             ...     ...      ...   \n",
      "555714                 fraud_Reilly and Sons  health_fitness   43.77  Michael   \n",
      "555715                  fraud_Hoppe-Parisian       kids_pets  111.84     Jose   \n",
      "555716                       fraud_Rau-Robel       kids_pets   86.88      Ann   \n",
      "555717                 fraud_Breitenberg LLC          travel    7.99     Eric   \n",
      "555718                     fraud_Dare-Marvin   entertainment   38.13   Samuel   \n",
      "\n",
      "            last gender                       street  ...      lat      long  \\\n",
      "0        Elliott      M            351 Darlene Green  ...  33.9659  -80.9355   \n",
      "1       Williams      F             3638 Marsh Union  ...  40.3207 -110.4360   \n",
      "2          Lopez      F         9333 Valentine Point  ...  40.6729  -73.5365   \n",
      "3       Williams      M  32941 Krystal Mill Apt. 552  ...  28.5697  -80.8191   \n",
      "4         Massey      M     5783 Evan Roads Apt. 465  ...  44.2529  -85.0170   \n",
      "...          ...    ...                          ...  ...      ...       ...   \n",
      "555714     Olson      M          558 Michael Estates  ...  40.4931  -91.8912   \n",
      "555715   Vasquez      M          572 Davis Mountains  ...  29.0393  -95.4401   \n",
      "555716    Lawson      F   144 Evans Islands Apt. 683  ...  46.1966 -118.9017   \n",
      "555717   Preston      M   7020 Doyle Stream Apt. 951  ...  44.6255 -116.4493   \n",
      "555718      Frey      M     830 Myers Plaza Apt. 384  ...  35.6665  -97.4798   \n",
      "\n",
      "        city_pop                     job        dob  \\\n",
      "0         333497     Mechanical engineer 1968-03-19   \n",
      "1            302  Sales professional, IT 1990-01-17   \n",
      "2          34496       Librarian, public 1970-10-21   \n",
      "3          54767            Set designer 1987-07-25   \n",
      "4           1126      Furniture designer 1955-07-06   \n",
      "...          ...                     ...        ...   \n",
      "555714       519            Town planner 1966-02-13   \n",
      "555715     28739          Futures trader 1999-12-27   \n",
      "555716      3684                Musician 1981-11-29   \n",
      "555717       129            Cartographer 1965-12-15   \n",
      "555718    116001             Media buyer 1993-05-10   \n",
      "\n",
      "                               trans_num   unix_time  merch_lat  merch_long  \\\n",
      "0       2da90c7d74bd46a0caf3777415b3ebd3  1371816865  33.986391  -81.200714   \n",
      "1       324cc204407e99f51b0d6ca0055005e7  1371816873  39.450498 -109.960431   \n",
      "2       c81755dbbbea9d5c77f094348a7579be  1371816893  40.495810  -74.196111   \n",
      "3       2159175b9efe66dc301f149d3d5abf8c  1371816915  28.812398  -80.883061   \n",
      "4       57ff021bd3f328f8738bb535c302a31b  1371816917  44.959148  -85.884734   \n",
      "...                                  ...         ...        ...         ...   \n",
      "555714  9b1f753c79894c9f4b71f04581835ada  1388534347  39.946837  -91.333331   \n",
      "555715  2090647dac2c89a1d86c514c427f5b91  1388534349  29.661049  -96.186633   \n",
      "555716  6c5b7c8add471975aa0fec023b2e8408  1388534355  46.658340 -119.715054   \n",
      "555717  14392d723bb7737606b2700ac791b7aa  1388534364  44.470525 -117.080888   \n",
      "555718  1765bb45b3aa3224b4cdcb6e7a96cee3  1388534374  36.210097  -97.036372   \n",
      "\n",
      "        is_fraud  \n",
      "0              0  \n",
      "1              0  \n",
      "2              0  \n",
      "3              0  \n",
      "4              0  \n",
      "...          ...  \n",
      "555714         0  \n",
      "555715         0  \n",
      "555716         0  \n",
      "555717         0  \n",
      "555718         0  \n",
      "\n",
      "[555719 rows x 23 columns]\n"
     ]
    }
   ],
   "source": [
    "import pandas as pd\n",
    "\n",
    "# Specify the datetime formats\n",
    "trans_date_format = \"%d-%m-%Y %H:%M\"\n",
    "dob_date_format = \"%d-%m-%Y\"\n",
    "\n",
    "# Convert datetime columns for train_data\n",
    "train_data[\"trans_date_trans_time\"] = pd.to_datetime(train_data[\"trans_date_trans_time\"], format=trans_date_format)\n",
    "train_data[\"dob\"] = pd.to_datetime(train_data[\"dob\"], format=dob_date_format)\n",
    "\n",
    "# Convert datetime columns for test_data\n",
    "test_data[\"trans_date_trans_time\"] = pd.to_datetime(test_data[\"trans_date_trans_time\"], format=trans_date_format)\n",
    "test_data[\"dob\"] = pd.to_datetime(test_data[\"dob\"], format=dob_date_format)\n",
    "\n",
    "# Display the DataFrames to verify changes\n",
    "print(train_data)\n",
    "print(test_data)\n"
   ]
  },
  {
   "cell_type": "code",
   "execution_count": 12,
   "metadata": {
    "colab": {
     "base_uri": "https://localhost:8080/",
     "height": 824
    },
    "executionInfo": {
     "elapsed": 2408,
     "status": "ok",
     "timestamp": 1711976827369,
     "user": {
      "displayName": "Shruti M Timmanagoudar",
      "userId": "14013848575536859607"
     },
     "user_tz": -330
    },
    "id": "pjRgi7S2xLo4",
    "outputId": "0ea9e57b-0eaf-4b81-b544-6358221207eb"
   },
   "outputs": [
    {
     "data": {
      "image/png": "[encoded data removed]",
      "text/plain": [
       "<Figure size 1000x800 with 2 Axes>"
      ]
     },
     "metadata": {},
     "output_type": "display_data"
    }
   ],
   "source": [
    "import matplotlib.pyplot as plt\n",
    "import seaborn as sns\n",
    "import pandas as pd\n",
    "\n",
    "# Ensure only numeric columns are used for correlation\n",
    "numeric_columns = train_data.select_dtypes(include=['number']).columns\n",
    "correlation_matrix = train_data[numeric_columns].corr()\n",
    "\n",
    "plt.figure(figsize=(10, 8))\n",
    "sns.heatmap(correlation_matrix, annot=True, cmap='coolwarm')\n",
    "plt.title('Correlation Heatmap')\n",
    "plt.show()\n"
   ]
  },
  {
   "cell_type": "code",
   "execution_count": 13,
   "metadata": {
    "colab": {
     "base_uri": "https://localhost:8080/"
    },
    "executionInfo": {
     "elapsed": 488,
     "status": "ok",
     "timestamp": 1711978001316,
     "user": {
      "displayName": "Shruti M Timmanagoudar",
      "userId": "14013848575536859607"
     },
     "user_tz": -330
    },
    "id": "3mLZn7nVxXlZ",
    "outputId": "ac61981f-02d8-466b-daa6-0fffd3f5e372"
   },
   "outputs": [
    {
     "name": "stdout",
     "output_type": "stream",
     "text": [
      "                                   merchant        category     amt gender  \\\n",
      "0                fraud_Rippin, Kub and Mann        misc_net    4.97      F   \n",
      "1           fraud_Heller, Gutmann and Zieme     grocery_pos  107.23      F   \n",
      "2                      fraud_Lind-Buckridge   entertainment  220.11      M   \n",
      "3        fraud_Kutch, Hermiston and Farrell   gas_transport   45.00      M   \n",
      "4                       fraud_Keeling-Crist        misc_pos   41.96      M   \n",
      "...                                     ...             ...     ...    ...   \n",
      "1048570                     fraud_Fadel Inc  health_fitness   77.00      F   \n",
      "1048571    fraud_Cremin, Hamill and Reichel        misc_pos  116.94      F   \n",
      "1048572  fraud_O'Connell, Botsford and Hand            home   21.27      F   \n",
      "1048573              fraud_Thompson-Gleason  health_fitness    9.52      F   \n",
      "1048574                 fraud_Buckridge PLC        misc_pos    6.81      F   \n",
      "\n",
      "         city_pop                                job  is_fraud  \n",
      "0            3495          Psychologist, counselling         0  \n",
      "1             149  Special educational needs teacher         0  \n",
      "2            4154        Nature conservation officer         0  \n",
      "3            1939                    Patent attorney         0  \n",
      "4              99     Dance movement psychotherapist         0  \n",
      "...           ...                                ...       ...  \n",
      "1048570     92106    Accountant, chartered certified         0  \n",
      "1048571      1583                         Geochemist         0  \n",
      "1048572    736284              Engineering geologist         0  \n",
      "1048573      4056                  Film/video editor         0  \n",
      "1048574    165556                     Prison officer         0  \n",
      "\n",
      "[1048575 rows x 7 columns]\n",
      "                               merchant        category    amt gender  \\\n",
      "0                 fraud_Kirlin and Sons   personal_care   2.86      M   \n",
      "1                  fraud_Sporer-Keebler   personal_care  29.84      F   \n",
      "2  fraud_Swaniawski, Nitzsche and Welch  health_fitness  41.28      F   \n",
      "3                     fraud_Haley Group        misc_pos  60.05      M   \n",
      "4                 fraud_Johnston-Casper          travel   3.19      M   \n",
      "\n",
      "   city_pop                     job  is_fraud  \n",
      "0    333497     Mechanical engineer         0  \n",
      "1       302  Sales professional, IT         0  \n",
      "2     34496       Librarian, public         0  \n",
      "3     54767            Set designer         0  \n",
      "4      1126      Furniture designer         0  \n"
     ]
    },
    {
     "data": {
      "text/plain": [
       "(555719, 7)"
      ]
     },
     "execution_count": 13,
     "metadata": {},
     "output_type": "execute_result"
    }
   ],
   "source": [
    "#drop columns that are not relevant to predicy fraud transaction\n",
    "drop_columns = ['Unnamed: 0','cc_num','trans_num','unix_time',\n",
    "               'first','last','street','zip','trans_date_trans_time','city',\n",
    "               'lat','long','dob','merch_lat','merch_long','state']\n",
    "train_data.drop(columns=drop_columns,inplace=True)\n",
    "test_data.drop(columns=drop_columns,inplace=True)\n",
    "\n",
    "print(train_data)\n",
    "train_data.shape\n",
    "\n",
    "print(test_data.head(5))\n",
    "test_data.shape\n"
   ]
  },
  {
   "cell_type": "markdown",
   "metadata": {
    "id": "GDCcMKYX1FzP"
   },
   "source": [
    "# Handle Data Imbalance"
   ]
  },
  {
   "cell_type": "code",
   "execution_count": 14,
   "metadata": {
    "executionInfo": {
     "elapsed": 1545,
     "status": "ok",
     "timestamp": 1711979034512,
     "user": {
      "displayName": "Shruti M Timmanagoudar",
      "userId": "14013848575536859607"
     },
     "user_tz": -330
    },
    "id": "3BSfkcrmzqlU"
   },
   "outputs": [],
   "source": [
    "encoder = LabelEncoder()\n",
    "train_data[\"gender\"]=encoder.fit_transform(train_data[\"gender\"])\n",
    "test_data[\"gender\"]=encoder.fit_transform(test_data[\"gender\"])\n",
    "\n",
    "train_data[\"category\"]=encoder.fit_transform(train_data[\"category\"])\n",
    "test_data[\"category\"]=encoder.fit_transform(test_data[\"category\"])\n",
    "\n",
    "train_data[\"job\"]=encoder.fit_transform(train_data[\"job\"])\n",
    "test_data[\"job\"]=encoder.fit_transform(test_data[\"job\"])\n",
    "\n",
    "train_data[\"merchant\"]=encoder.fit_transform(train_data[\"merchant\"])\n",
    "test_data[\"merchant\"]=encoder.fit_transform(test_data[\"merchant\"])\n",
    "# Assuming your DataFrame is named df\n",
    "train_data['amt'] = train_data['amt'].astype(int)\n",
    "\n",
    "# Fill missing values\n",
    "train_data.fillna(-999, inplace=True)\n",
    "test_data.fillna(-999, inplace=True)\n",
    "test_data.fillna(-999,inplace=True)\n",
    "test_data.fillna(-999,inplace=True)\n",
    "\n",
    "# Drop rows containing -999 in train_data\n",
    "train_data = train_data[train_data != -999].dropna()\n",
    "\n",
    "# Drop rows containing -999 in test_data\n",
    "test_data = test_data[test_data != -999].dropna()\n"
   ]
  },
  {
   "cell_type": "markdown",
   "metadata": {
    "id": "-eG4BKa6xyQR"
   },
   "source": [
    "# Split train and test data"
   ]
  },
  {
   "cell_type": "code",
   "execution_count": 15,
   "metadata": {
    "executionInfo": {
     "elapsed": 2,
     "status": "ok",
     "timestamp": 1711979039970,
     "user": {
      "displayName": "Shruti M Timmanagoudar",
      "userId": "14013848575536859607"
     },
     "user_tz": -330
    },
    "id": "plWS7eczxu_u"
   },
   "outputs": [],
   "source": [
    "x_train = train_data.drop('is_fraud',axis=1)\n",
    "y_train = train_data['is_fraud']\n",
    "\n",
    "x_test=test_data.drop('is_fraud',axis=1)\n",
    "y_test = test_data['is_fraud']"
   ]
  },
  {
   "cell_type": "code",
   "execution_count": 16,
   "metadata": {
    "colab": {
     "base_uri": "https://localhost:8080/",
     "height": 206
    },
    "executionInfo": {
     "elapsed": 29,
     "status": "ok",
     "timestamp": 1711979043865,
     "user": {
      "displayName": "Shruti M Timmanagoudar",
      "userId": "14013848575536859607"
     },
     "user_tz": -330
    },
    "id": "PjYVxe2QyG-B",
    "outputId": "7ffe2f9a-f6b2-4359-9c41-b4cda817ba15"
   },
   "outputs": [
    {
     "data": {
      "text/html": [
       "<div>\n",
       "<style scoped>\n",
       "    .dataframe tbody tr th:only-of-type {\n",
       "        vertical-align: middle;\n",
       "    }\n",
       "\n",
       "    .dataframe tbody tr th {\n",
       "        vertical-align: top;\n",
       "    }\n",
       "\n",
       "    .dataframe thead th {\n",
       "        text-align: right;\n",
       "    }\n",
       "</style>\n",
       "<table border=\"1\" class=\"dataframe\">\n",
       "  <thead>\n",
       "    <tr style=\"text-align: right;\">\n",
       "      <th></th>\n",
       "      <th>merchant</th>\n",
       "      <th>category</th>\n",
       "      <th>amt</th>\n",
       "      <th>gender</th>\n",
       "      <th>city_pop</th>\n",
       "      <th>job</th>\n",
       "      <th>is_fraud</th>\n",
       "    </tr>\n",
       "  </thead>\n",
       "  <tbody>\n",
       "    <tr>\n",
       "      <th>0</th>\n",
       "      <td>319</td>\n",
       "      <td>10</td>\n",
       "      <td>2.86</td>\n",
       "      <td>1</td>\n",
       "      <td>333497</td>\n",
       "      <td>275</td>\n",
       "      <td>0</td>\n",
       "    </tr>\n",
       "    <tr>\n",
       "      <th>1</th>\n",
       "      <td>591</td>\n",
       "      <td>10</td>\n",
       "      <td>29.84</td>\n",
       "      <td>0</td>\n",
       "      <td>302</td>\n",
       "      <td>392</td>\n",
       "      <td>0</td>\n",
       "    </tr>\n",
       "    <tr>\n",
       "      <th>2</th>\n",
       "      <td>611</td>\n",
       "      <td>5</td>\n",
       "      <td>41.28</td>\n",
       "      <td>0</td>\n",
       "      <td>34496</td>\n",
       "      <td>259</td>\n",
       "      <td>0</td>\n",
       "    </tr>\n",
       "    <tr>\n",
       "      <th>3</th>\n",
       "      <td>222</td>\n",
       "      <td>9</td>\n",
       "      <td>60.05</td>\n",
       "      <td>1</td>\n",
       "      <td>54767</td>\n",
       "      <td>407</td>\n",
       "      <td>0</td>\n",
       "    </tr>\n",
       "    <tr>\n",
       "      <th>4</th>\n",
       "      <td>292</td>\n",
       "      <td>13</td>\n",
       "      <td>3.19</td>\n",
       "      <td>1</td>\n",
       "      <td>1126</td>\n",
       "      <td>196</td>\n",
       "      <td>0</td>\n",
       "    </tr>\n",
       "  </tbody>\n",
       "</table>\n",
       "</div>"
      ],
      "text/plain": [
       "   merchant  category    amt  gender  city_pop  job  is_fraud\n",
       "0       319        10   2.86       1    333497  275         0\n",
       "1       591        10  29.84       0       302  392         0\n",
       "2       611         5  41.28       0     34496  259         0\n",
       "3       222         9  60.05       1     54767  407         0\n",
       "4       292        13   3.19       1      1126  196         0"
      ]
     },
     "execution_count": 16,
     "metadata": {},
     "output_type": "execute_result"
    }
   ],
   "source": [
    "train_data.head(5)\n",
    "test_data.head(5)"
   ]
  },
  {
   "cell_type": "markdown",
   "metadata": {
    "id": "elvBWtyyyLhB"
   },
   "source": [
    "# 3-EDA"
   ]
  },
  {
   "cell_type": "code",
   "execution_count": 17,
   "metadata": {
    "colab": {
     "base_uri": "https://localhost:8080/",
     "height": 661
    },
    "executionInfo": {
     "elapsed": 2283,
     "status": "ok",
     "timestamp": 1711979063819,
     "user": {
      "displayName": "Shruti M Timmanagoudar",
      "userId": "14013848575536859607"
     },
     "user_tz": -330
    },
    "id": "UhqC5z3pyPFd",
    "outputId": "f9cd6f86-dfb5-4230-9bf7-4067cb6aabf6"
   },
   "outputs": [
    {
     "data": {
      "image/png": "[encoded data removed]",
      "text/plain": [
       "<Figure size 1000x800 with 2 Axes>"
      ]
     },
     "metadata": {},
     "output_type": "display_data"
    },
    {
     "name": "stdout",
     "output_type": "stream",
     "text": [
      "2\n",
      "2\n"
     ]
    },
    {
     "data": {
      "image/png": "[encoded data removed]",
      "text/plain": [
       "<Figure size 1200x600 with 1 Axes>"
      ]
     },
     "metadata": {},
     "output_type": "display_data"
    }
   ],
   "source": [
    "import matplotlib.pyplot as plt\n",
    "import seaborn as sns\n",
    "import pandas as pd\n",
    "\n",
    "# Ensure only numeric columns are used for correlation\n",
    "numeric_columns = train_data.select_dtypes(include=['number']).columns\n",
    "correlation_matrix = train_data[numeric_columns].corr()\n",
    "\n",
    "plt.figure(figsize=(10, 8))\n",
    "sns.heatmap(correlation_matrix, annot=True, cmap='coolwarm')\n",
    "plt.title('Correlation Heatmap')\n",
    "plt.show()\n",
    "\n",
    "# Plotting the pie chart for \"is_fraud\" counts\n",
    "exit_counts = train_data[\"is_fraud\"].value_counts()\n",
    "labels = [\"No\", \"Yes\"]\n",
    "\n",
    "print(len(exit_counts))\n",
    "print(len(labels))\n",
    "\n",
    "plt.figure(figsize=(12, 6))\n",
    "plt.subplot(1, 2, 1)  # Subplot for the pie chart\n",
    "plt.pie(exit_counts, labels=labels, autopct=\"%0.0f%%\")\n",
    "plt.title(\"is_fraud Counts\")\n",
    "plt.tight_layout()  # Adjust layout to prevent overlapping\n",
    "plt.show()\n"
   ]
  },
  {
   "cell_type": "markdown",
   "metadata": {
    "id": "BHHkdJS8y_Ma"
   },
   "source": [
    "# Random Forest"
   ]
  },
  {
   "cell_type": "code",
   "execution_count": 18,
   "metadata": {
    "colab": {
     "base_uri": "https://localhost:8080/"
    },
    "executionInfo": {
     "elapsed": 1320,
     "status": "ok",
     "timestamp": 1711979077149,
     "user": {
      "displayName": "Shruti M Timmanagoudar",
      "userId": "14013848575536859607"
     },
     "user_tz": -330
    },
    "id": "M2gyqTVy0Ij3",
    "outputId": "30f1a8d4-4e54-4857-f21e-77e99d777a0c"
   },
   "outputs": [
    {
     "name": "stdout",
     "output_type": "stream",
     "text": [
      "merchant    int32\n",
      "category    int32\n",
      "amt         int32\n",
      "gender      int32\n",
      "city_pop    int64\n",
      "job         int32\n",
      "dtype: object\n",
      "int64\n"
     ]
    }
   ],
   "source": [
    "print(x_train.dtypes)\n",
    "print(y_train.dtypes)"
   ]
  },
  {
   "cell_type": "code",
   "execution_count": 19,
   "metadata": {
    "colab": {
     "base_uri": "https://localhost:8080/"
    },
    "executionInfo": {
     "elapsed": 131565,
     "status": "ok",
     "timestamp": 1711979214984,
     "user": {
      "displayName": "Shruti M Timmanagoudar",
      "userId": "14013848575536859607"
     },
     "user_tz": -330
    },
    "id": "Jdj8-uBxyzAG",
    "outputId": "17486e7b-944c-46f5-c49e-c3d52763af97"
   },
   "outputs": [
    {
     "name": "stdout",
     "output_type": "stream",
     "text": [
      "Accuracy:  0.997610303048843\n",
      "Classification Report :                precision    recall  f1-score   support\n",
      "\n",
      "           0       1.00      1.00      1.00    553574\n",
      "           1       0.74      0.59      0.66      2145\n",
      "\n",
      "    accuracy                           1.00    555719\n",
      "   macro avg       0.87      0.80      0.83    555719\n",
      "weighted avg       1.00      1.00      1.00    555719\n",
      "\n"
     ]
    }
   ],
   "source": [
    "from sklearn.ensemble import RandomForestClassifier\n",
    "\n",
    "cla=RandomForestClassifier(n_estimators=100,random_state=42)\n",
    "cla.fit(x_train,y_train)\n",
    "\n",
    "y_pred=cla.predict(x_test)\n",
    "\n",
    "report = classification_report(y_test,y_pred)\n",
    "accuracy = accuracy_score(y_test,y_pred)\n",
    "print(\"Accuracy: \",accuracy)\n",
    "print(\"Classification Report : \",report)"
   ]
  },
  {
   "cell_type": "markdown",
   "metadata": {
    "id": "7bW2KfZ1zCf4"
   },
   "source": [
    "# Decision Tree"
   ]
  },
  {
   "cell_type": "code",
   "execution_count": 20,
   "metadata": {
    "colab": {
     "base_uri": "https://localhost:8080/"
    },
    "executionInfo": {
     "elapsed": 4564,
     "status": "ok",
     "timestamp": 1711979473404,
     "user": {
      "displayName": "Shruti M Timmanagoudar",
      "userId": "14013848575536859607"
     },
     "user_tz": -330
    },
    "id": "rO2LqlNAzFJ6",
    "outputId": "60f0afe3-00e5-44e9-ad2f-2457f57405cf"
   },
   "outputs": [
    {
     "name": "stdout",
     "output_type": "stream",
     "text": [
      "Accuracy:  0.9953123790980694\n",
      "Classification Report :                precision    recall  f1-score   support\n",
      "\n",
      "           0       1.00      1.00      1.00    553574\n",
      "           1       0.42      0.59      0.49      2145\n",
      "\n",
      "    accuracy                           1.00    555719\n",
      "   macro avg       0.71      0.79      0.74    555719\n",
      "weighted avg       1.00      1.00      1.00    555719\n",
      "\n"
     ]
    }
   ],
   "source": [
    "from sklearn.tree import DecisionTreeClassifier\n",
    "\n",
    "classification = DecisionTreeClassifier(random_state=42)\n",
    "classification.fit(x_train,y_train)\n",
    "\n",
    "y_pred=classification.predict(x_test)\n",
    "\n",
    "report = classification_report(y_test,y_pred)\n",
    "accuracy = accuracy_score(y_test,y_pred)\n",
    "print(\"Accuracy: \",accuracy)\n",
    "print(\"Classification Report : \",report)"
   ]
  },
  {
   "cell_type": "code",
   "execution_count": 21,
   "metadata": {
    "colab": {
     "base_uri": "https://localhost:8080/",
     "height": 449
    },
    "executionInfo": {
     "elapsed": 1714,
     "status": "ok",
     "timestamp": 1711979427696,
     "user": {
      "displayName": "Shruti M Timmanagoudar",
      "userId": "14013848575536859607"
     },
     "user_tz": -330
    },
    "id": "_Nk-04auzIP7",
    "outputId": "56e00286-c3d9-482e-e822-41697dde01a4"
   },
   "outputs": [
    {
     "data": {
      "image/png": "[encoded data removed]",
      "text/plain": [
       "<Figure size 640x480 with 2 Axes>"
      ]
     },
     "metadata": {},
     "output_type": "display_data"
    }
   ],
   "source": [
    "from sklearn.metrics import ConfusionMatrixDisplay\n",
    "from sklearn.metrics import confusion_matrix\n",
    "cm = confusion_matrix(y_test,y_pred)\n",
    "disp = ConfusionMatrixDisplay(confusion_matrix=cm)\n",
    "disp.plot()\n",
    "plt.show()"
   ]
  },
  {
   "cell_type": "code",
   "execution_count": 22,
   "metadata": {
    "colab": {
     "base_uri": "https://localhost:8080/",
     "height": 489
    },
    "executionInfo": {
     "elapsed": 1026,
     "status": "ok",
     "timestamp": 1711979433743,
     "user": {
      "displayName": "Shruti M Timmanagoudar",
      "userId": "14013848575536859607"
     },
     "user_tz": -330
    },
    "id": "byTk5lXO7CEU",
    "outputId": "468720d6-8c7d-4c32-9355-3483d94d0438"
   },
   "outputs": [
    {
     "data": {
      "image/png": "[encoded data removed]",
      "text/plain": [
       "<Figure size 640x480 with 1 Axes>"
      ]
     },
     "metadata": {},
     "output_type": "display_data"
    },
    {
     "name": "stdout",
     "output_type": "stream",
     "text": [
      "AUC: 0.7923849495471356\n"
     ]
    }
   ],
   "source": [
    "from sklearn.metrics import roc_curve, auc\n",
    "\n",
    "fpr, tpr, thresholds = roc_curve(y_test, y_pred)\n",
    "import matplotlib.pyplot as plt\n",
    "\n",
    "plt.figure()\n",
    "plt.plot(fpr, tpr, color='darkorange', lw=2, label='ROC curve (area = %0.2f)' % auc(fpr, tpr))\n",
    "plt.plot([0, 1], [0, 1], color='navy', lw=2, linestyle='--')\n",
    "plt.xlim([0.0, 1.0])\n",
    "plt.ylim([0.0, 1.05])\n",
    "plt.xlabel('False Positive Rate')\n",
    "plt.ylabel('True Positive Rate')\n",
    "plt.title('Receiver Operating Characteristic')\n",
    "plt.legend(loc='lower right')\n",
    "plt.show()\n",
    "roc_auc = auc(fpr, tpr)\n",
    "print(\"AUC:\", roc_auc)\n"
   ]
  },
  {
   "cell_type": "code",
   "execution_count": null,
   "metadata": {},
   "outputs": [],
   "source": []
  }
 ],
 "metadata": {
  "colab": {
   "authorship_tag": "ABX9TyMixvmgJpePTYsL2uKEYUzN",
   "provenance": []
  },
  "kernelspec": {
   "display_name": "Python 3 (ipykernel)",
   "language": "python",
   "name": "python3"
  },
  "language_info": {
   "codemirror_mode": {
    "name": "ipython",
    "version": 3
   },
   "file_extension": ".py",
   "mimetype": "text/x-python",
   "name": "python",
   "nbconvert_exporter": "python",
   "pygments_lexer": "ipython3",
   "version": "3.11.7"
  }
 },
 "nbformat": 4,
 "nbformat_minor": 4
}
